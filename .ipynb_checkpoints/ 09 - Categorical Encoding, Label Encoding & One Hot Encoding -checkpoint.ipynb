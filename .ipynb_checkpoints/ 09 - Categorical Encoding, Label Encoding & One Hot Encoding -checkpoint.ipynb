{
 "cells": [
  {
   "cell_type": "markdown",
   "metadata": {},
   "source": [
    "# Mengenal Categorical Encoding: Label & One Hot Encoding"
   ]
  },
  {
   "cell_type": "markdown",
   "metadata": {},
   "source": [
    "* Data set umumnya terbentuk dari kombinasi numerical & categorical, namun computer hanya dapat memahamin angka dan tidak dapat memahami text/categorical. Maka kita perlu mengkonversikan nilai categorical menjadi numerical agar komputer dapat memahami algoritma Machine Learning dengan baik.\n",
    "* Proses tersebut dikenal dengan Categorical Encoding.\n",
    "* Terdapat 2 jenis Categorical Encoding yang umum yaitu:\n",
    "    - Label Encoding\n",
    "    - One HOt Encoding"
   ]
  },
  {
   "cell_type": "markdown",
   "metadata": {},
   "source": [
    "## Label Encoding"
   ]
  }
 ],
 "metadata": {
  "kernelspec": {
   "display_name": "Python 3",
   "language": "python",
   "name": "python3"
  },
  "language_info": {
   "codemirror_mode": {
    "name": "ipython",
    "version": 3
   },
   "file_extension": ".py",
   "mimetype": "text/x-python",
   "name": "python",
   "nbconvert_exporter": "python",
   "pygments_lexer": "ipython3",
   "version": "3.8.5"
  }
 },
 "nbformat": 4,
 "nbformat_minor": 4
}
